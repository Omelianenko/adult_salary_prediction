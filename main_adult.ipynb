{
 "cells": [
  {
   "cell_type": "code",
   "execution_count": 6,
   "metadata": {},
   "outputs": [],
   "source": [
    "import pandas as pd\n",
    "import numpy as np\n",
    "import matplotlib as plt\n",
    "%matplotlib inline\n",
    "data = pd.read_csv('adult.data.txt', header=None)\n",
    "data.columns = np.array(['age', 'workclass', 'fnlwg', 'education', 'education.num', 'marital.status', \n",
    "                         'occupation','relationship', 'race', 'sex', 'capital.gain', 'capital.loss', \n",
    "                         'hours.per.week', 'native.country', 'income'])"
   ]
  },
  {
   "cell_type": "code",
   "execution_count": 7,
   "metadata": {},
   "outputs": [
    {
     "name": "stdout",
     "output_type": "stream",
     "text": [
      "{' <=50K', ' >50K'}\n",
      "{' Male', ' Female'}\n"
     ]
    }
   ],
   "source": [
    "print(set(data['income']))\n",
    "data['income'] = data['income'].map({' <=50K': 0, ' >50K': 1}).astype(int)\n",
    "\n",
    "print(set(data['sex']))\n",
    "data['sex'] = data['sex'].map({' Male': 0, ' Female': 1}).astype(int)"
   ]
  },
  {
   "cell_type": "code",
   "execution_count": null,
   "metadata": {},
   "outputs": [],
   "source": []
  }
 ],
 "metadata": {
  "kernelspec": {
   "display_name": "Python 3",
   "language": "python",
   "name": "python3"
  },
  "language_info": {
   "codemirror_mode": {
    "name": "ipython",
    "version": 3
   },
   "file_extension": ".py",
   "mimetype": "text/x-python",
   "name": "python",
   "nbconvert_exporter": "python",
   "pygments_lexer": "ipython3",
   "version": "3.6.5"
  }
 },
 "nbformat": 4,
 "nbformat_minor": 2
}
